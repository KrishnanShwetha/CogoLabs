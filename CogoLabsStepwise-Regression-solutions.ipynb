{
  "cells": [
    {
      "cell_type": "markdown",
      "metadata": {
        "id": "4AI6kCjUdadG"
      },
      "source": [
        "# Stepwise feature selection\n",
        "\n",
        " A machine learning model to predict email open rates for new customers based on their browsing behaviour.\n",
        "\n"
      ]
    },
    {
      "cell_type": "markdown",
      "metadata": {
        "id": "j_jWf_sDdxk6"
      },
      "source": [
        "## Setup\n",
        "\n",
        "Lets start by importing the packages we'll need and mounting our Google Drive as before. "
      ]
    },
    {
      "cell_type": "code",
      "execution_count": null,
      "metadata": {
        "id": "ZNxLcICQuclV",
        "colab": {
          "base_uri": "https://localhost:8080/"
        },
        "outputId": "afbd2b36-895c-45a3-97b0-8dec6f7b6d82"
      },
      "outputs": [
        {
          "output_type": "stream",
          "name": "stdout",
          "text": [
            "Drive already mounted at /content/drive; to attempt to forcibly remount, call drive.mount(\"/content/drive\", force_remount=True).\n"
          ]
        }
      ],
      "source": [
        "import pandas as pd\n",
        "import numpy as np\n",
        "import matplotlib.pyplot as plt\n",
        "\n",
        "from google.colab import drive\n",
        "drive.mount('/content/drive')"
      ]
    },
    {
      "cell_type": "markdown",
      "metadata": {
        "id": "D9Xg2nxHd-b7"
      },
      "source": [
        "We'll use the `read_csv` function to read the dataset, be sure to take a look at the [documentation](https://pandas.pydata.org/pandas-docs/stable/reference/api/pandas.read_csv.html). There are mamy optional arguments you may find useful when working on your project dataset. "
      ]
    },
    {
      "cell_type": "code",
      "execution_count": null,
      "metadata": {
        "id": "xqONUClOu9vo"
      },
      "outputs": [],
      "source": [
        "df = pd.read_csv('/content/drive/My Drive/MLBA/cogo-all.tsv', delimiter='\\t')"
      ]
    },
    {
      "cell_type": "markdown",
      "metadata": {
        "id": "0OB4IU45eY4T"
      },
      "source": [
        "We have to split the data into a training and testing set. `sklearn.model_selection` offers us automated ways of doing this which we will use in the future but since this is our first time, let's do it manually. \n",
        "\n",
        "We create a new column called `train` which is `True` if the instance should be included in the training by using the numpy random number generator. Once we have this column, we can filter on it to create two new dataframes. "
      ]
    },
    {
      "cell_type": "code",
      "execution_count": null,
      "metadata": {
        "colab": {
          "base_uri": "https://localhost:8080/"
        },
        "id": "iqYd7CNywwVO",
        "outputId": "98e964b9-86e5-4bec-a170-0d0e7f83a5ee"
      },
      "outputs": [
        {
          "output_type": "stream",
          "name": "stdout",
          "text": [
            "(230624, 18) (57674, 18)\n"
          ]
        }
      ],
      "source": [
        "df['train'] = np.random.rand(len(df)) < 0.8\n",
        "\n",
        "df_train = df[df.train == True]\n",
        "df_test = df[df.train == False]\n",
        "\n",
        "print(df_train.shape, df_test.shape)"
      ]
    },
    {
      "cell_type": "markdown",
      "metadata": {
        "id": "Hg5CwMumfQjJ"
      },
      "source": [
        "We can refresh our memories of what goes on in the dataset by looking at the column names. "
      ]
    },
    {
      "cell_type": "code",
      "execution_count": null,
      "metadata": {
        "colab": {
          "base_uri": "https://localhost:8080/"
        },
        "id": "E3SCMbcXAWTX",
        "outputId": "93cd1c46-8330-475c-8d28-f26979dd8433"
      },
      "outputs": [
        {
          "output_type": "execute_result",
          "data": {
            "text/plain": [
              "Index(['state', 'user_id', 'browser1', 'browser2', 'browser3', 'device_type1',\n",
              "       'device_type2', 'device_type3', 'device_type4', 'activity_observations',\n",
              "       'activity_days', 'activity_recency', 'activity_locations',\n",
              "       'activity_ids', 'age', 'gender', 'p_open', 'train'],\n",
              "      dtype='object')"
            ]
          },
          "metadata": {},
          "execution_count": 36
        }
      ],
      "source": [
        "df.columns"
      ]
    },
    {
      "cell_type": "markdown",
      "metadata": {
        "id": "9s5oNkZ-fHTs"
      },
      "source": [
        "## Training a linear regression model"
      ]
    },
    {
      "cell_type": "markdown",
      "metadata": {
        "id": "ou8rI9j0f5f5"
      },
      "source": [
        "Let's start by setting up a very simple model that only cares about which browser a user uses. We will create a list, `predictors1` to hold ne column names of the predictors we want to include in our model to make indexing easier."
      ]
    },
    {
      "cell_type": "code",
      "execution_count": null,
      "metadata": {
        "id": "MHC31vFIgj84"
      },
      "outputs": [],
      "source": [
        "predictors = ['browser1', 'browser2', 'browser3','device_type2', 'device_type3', 'device_type4', 'activity_observations',\n",
        "       'activity_days', 'activity_recency', 'activity_locations', 'age']\n",
        "X1_train = df_train[predictors]\n",
        "X1_test = df_test[predictors]\n",
        "y_train = df_train['p_open']\n",
        "y_test = df_test['p_open']"
      ]
    },
    {
      "cell_type": "markdown",
      "metadata": {
        "id": "KHaZtj6cgrWi"
      },
      "source": [
        "Now we can follow the same four steps as always. First, choose a model class, instantiante the model and set hyperparameter values, then fit to your data. Remember we can access model attributes, in this case the coefficients and intercepts term.  "
      ]
    },
    {
      "cell_type": "code",
      "execution_count": null,
      "metadata": {
        "colab": {
          "base_uri": "https://localhost:8080/"
        },
        "id": "ZKv-j8ctxqMi",
        "outputId": "8c265c41-7acf-4467-904e-642f09deedc0"
      },
      "outputs": [
        {
          "output_type": "execute_result",
          "data": {
            "text/plain": [
              "(array([ 6.27978297e-03, -4.04776870e-03,  3.44039441e-02, -7.21018183e-02,\n",
              "         5.48376517e-02,  9.33053464e-03, -1.70310798e-05,  9.98075096e-04,\n",
              "        -6.97881390e-05, -3.45354789e-03,  1.59248749e-03]),\n",
              " 0.0295734835321467)"
            ]
          },
          "metadata": {},
          "execution_count": 64
        }
      ],
      "source": [
        "from sklearn.linear_model import LinearRegression # 1. choose model class\n",
        "model = LinearRegression(fit_intercept=True)      # 2. instantiate model\n",
        "model.fit(X1_train, y_train)                      # 3. fit model to data\n",
        "\n",
        "model.coef_, model.intercept_"
      ]
    },
    {
      "cell_type": "markdown",
      "metadata": {
        "id": "JzwefjGYhlyz"
      },
      "source": [
        "Finally, we make predictions on the training and test set and evaluate the mean squared error. Of course, there are automated functions for this, but let's do it manually so that we can make sure we understand how it works. \n",
        "\n",
        "First we predict on the training data:"
      ]
    },
    {
      "cell_type": "code",
      "execution_count": null,
      "metadata": {
        "colab": {
          "base_uri": "https://localhost:8080/"
        },
        "id": "iME4cItosYor",
        "outputId": "15de780f-d57c-429e-83d2-879ddc613821"
      },
      "outputs": [
        {
          "output_type": "stream",
          "name": "stdout",
          "text": [
            "RMSE train: 0.16658220649393307, MSE train: 0.02774963152038736\n"
          ]
        }
      ],
      "source": [
        "y_train_fit = model.predict(X1_train)              # 4a. predict on training data\n",
        "mse_train = np.mean( (y_train - y_train_fit)**2 )\n",
        "print(f\"RMSE train: {np.sqrt(mse_train)}, MSE train: {mse_train}\")"
      ]
    },
    {
      "cell_type": "markdown",
      "metadata": {
        "id": "0czfTAwGs5Wm"
      },
      "source": [
        "Then on the testing data:"
      ]
    },
    {
      "cell_type": "code",
      "execution_count": null,
      "metadata": {
        "colab": {
          "base_uri": "https://localhost:8080/"
        },
        "id": "5H6Qo8jNtmN1",
        "outputId": "4d51736c-d9f9-422b-ff70-9c33ae9d1d7d"
      },
      "outputs": [
        {
          "output_type": "stream",
          "name": "stdout",
          "text": [
            "RMSE test: 0.16539390994272948, MSE test: 0.027355145446143713\n"
          ]
        }
      ],
      "source": [
        "y_test_fit = model.predict(X1_test)                # 4b. predict on test data\n",
        "mse_test = np.mean( (y_test - y_test_fit)**2 )\n",
        "print(f\"RMSE test: {np.sqrt(mse_test)}, MSE test: {mse_test}\")"
      ]
    },
    {
      "cell_type": "markdown",
      "metadata": {
        "id": "Si6Ov0yps8Rl"
      },
      "source": [
        "In this case our MSE is pretty similar, so it's unlikely we overfit. Is this a \"good\" MSE? We don't really know, but we can say that our open-rate predictions are, on average, off by about 17\\%. \n"
      ]
    },
    {
      "cell_type": "markdown",
      "metadata": {
        "id": "yJDWLsMaeecM"
      },
      "source": [
        "## Stepwise feature selection"
      ]
    },
    {
      "cell_type": "code",
      "execution_count": null,
      "metadata": {
        "colab": {
          "base_uri": "https://localhost:8080/"
        },
        "id": "ncOw3TZLeecM",
        "outputId": "2019b2dc-44da-4214-da16-58264e8f1f42"
      },
      "outputs": [
        {
          "output_type": "execute_result",
          "data": {
            "text/plain": [
              "array(['browser3', 'device_type2', 'device_type3', 'activity_days', 'age'],\n",
              "      dtype=object)"
            ]
          },
          "metadata": {},
          "execution_count": 67
        }
      ],
      "source": [
        "from sklearn.feature_selection import SequentialFeatureSelector\n",
        "\n",
        "sfs_forward = SequentialFeatureSelector(\n",
        "    model, direction=\"forward\"\n",
        ").fit(X1_train, y_train)\n",
        "\n",
        "predictors_fwd = sfs_forward.get_feature_names_out()\n",
        "predictors_fwd"
      ]
    },
    {
      "cell_type": "code",
      "source": [
        "X1_train_fwd = df_train[predictors_fwd]\n",
        "X1_test_fwd = df_test[predictors_fwd]\n",
        "\n",
        "model.fit(X1_train_fwd, y_train)\n",
        "model.intercept_, model.coef_"
      ],
      "metadata": {
        "colab": {
          "base_uri": "https://localhost:8080/"
        },
        "id": "uSqdKOr4gqA9",
        "outputId": "bf6bd60a-0491-494d-cc81-ca45ceef4855"
      },
      "execution_count": null,
      "outputs": [
        {
          "output_type": "execute_result",
          "data": {
            "text/plain": [
              "(0.024122763112132628,\n",
              " array([ 0.03707248, -0.07180775,  0.05088075,  0.00095493,  0.00159022]))"
            ]
          },
          "metadata": {},
          "execution_count": 68
        }
      ]
    },
    {
      "cell_type": "code",
      "source": [
        "y_train_fwd_fit = model.predict(X1_train_fwd)             \n",
        "mse_train_fwd = np.mean( (y_train - y_train_fwd_fit)**2 )\n",
        "print(f\"RMSE train: {np.sqrt(mse_train_fwd)}, MSE train: {mse_train_fwd}\")"
      ],
      "metadata": {
        "colab": {
          "base_uri": "https://localhost:8080/"
        },
        "id": "Ii4JaT-4hEHL",
        "outputId": "12d2ef69-8d75-44e0-d624-f94199b9f958"
      },
      "execution_count": null,
      "outputs": [
        {
          "output_type": "stream",
          "name": "stdout",
          "text": [
            "RMSE train: 0.16667267282451015, MSE train: 0.027779779866466205\n"
          ]
        }
      ]
    },
    {
      "cell_type": "code",
      "source": [
        "y_test_fwd_fit = model.predict(X1_test_fwd)             \n",
        "mse_test_fwd = np.mean( (y_test - y_test_fwd_fit)**2 )\n",
        "print(f\"RMSE test: {np.sqrt(mse_test_fwd)}, MSE test: {mse_test_fwd}\")"
      ],
      "metadata": {
        "colab": {
          "base_uri": "https://localhost:8080/"
        },
        "id": "C2n7PLOfhr32",
        "outputId": "0350c2cb-932a-4a7d-a427-e7fa0aecaacf"
      },
      "execution_count": null,
      "outputs": [
        {
          "output_type": "stream",
          "name": "stdout",
          "text": [
            "RMSE test: 0.1654996498472957, MSE test: 0.027390134099577485\n"
          ]
        }
      ]
    },
    {
      "cell_type": "code",
      "source": [
        "sfs_backward = SequentialFeatureSelector(\n",
        "    model, direction=\"backward\"\n",
        ").fit(X1_train, y_train)\n",
        "\n",
        "predictors_bkw = sfs_backward.get_feature_names_out()\n",
        "predictors_bkw"
      ],
      "metadata": {
        "colab": {
          "base_uri": "https://localhost:8080/"
        },
        "id": "DOO2wFsaf8Ij",
        "outputId": "619f9868-d387-42b8-c2ca-d87a2e495c98"
      },
      "execution_count": null,
      "outputs": [
        {
          "output_type": "execute_result",
          "data": {
            "text/plain": [
              "array(['browser3', 'device_type2', 'device_type3', 'activity_days', 'age'],\n",
              "      dtype=object)"
            ]
          },
          "metadata": {},
          "execution_count": 71
        }
      ]
    },
    {
      "cell_type": "code",
      "source": [
        "X1_train_bkw = df_train[predictors_bkw]\n",
        "X1_test_bkw = df_test[predictors_fwd]\n",
        "\n",
        "model.fit(X1_train_bkw, y_train)\n",
        "model.intercept_, model.coef_"
      ],
      "metadata": {
        "colab": {
          "base_uri": "https://localhost:8080/"
        },
        "id": "Ex1HndCiglv1",
        "outputId": "64395c68-f4bd-4654-a745-3e1df1610630"
      },
      "execution_count": null,
      "outputs": [
        {
          "output_type": "execute_result",
          "data": {
            "text/plain": [
              "(0.024122763112132628,\n",
              " array([ 0.03707248, -0.07180775,  0.05088075,  0.00095493,  0.00159022]))"
            ]
          },
          "metadata": {},
          "execution_count": 72
        }
      ]
    },
    {
      "cell_type": "code",
      "source": [
        "y_train_bkw_fit = model.predict(X1_train_bkw)             \n",
        "mse_train_bkw = np.mean( (y_train - y_train_bkw_fit)**2 )\n",
        "print(f\"RMSE train: {np.sqrt(mse_train_bkw)}, MSE train: {mse_train_bkw}\")"
      ],
      "metadata": {
        "colab": {
          "base_uri": "https://localhost:8080/"
        },
        "id": "YzZkeyWvhY7d",
        "outputId": "0fbf374e-ecad-46cd-8c43-47e0411e2b9d"
      },
      "execution_count": null,
      "outputs": [
        {
          "output_type": "stream",
          "name": "stdout",
          "text": [
            "RMSE train: 0.16667267282451015, MSE train: 0.027779779866466205\n"
          ]
        }
      ]
    },
    {
      "cell_type": "code",
      "source": [
        "y_test_bkw_fit = model.predict(X1_test_bkw)             \n",
        "mse_test_bkw = np.mean( (y_test - y_test_bkw_fit)**2 )\n",
        "print(f\"RMSE test: {np.sqrt(mse_test_bkw)}, MSE test: {mse_test_bkw}\")"
      ],
      "metadata": {
        "colab": {
          "base_uri": "https://localhost:8080/"
        },
        "id": "N5oKyhvthjkO",
        "outputId": "28840bfe-8fe6-482c-87bc-23e62394557e"
      },
      "execution_count": null,
      "outputs": [
        {
          "output_type": "stream",
          "name": "stdout",
          "text": [
            "RMSE test: 0.1654996498472957, MSE test: 0.027390134099577485\n"
          ]
        }
      ]
    }
  ],
  "metadata": {
    "colab": {
      "provenance": []
    },
    "kernelspec": {
      "display_name": "base",
      "language": "python",
      "name": "python3"
    },
    "language_info": {
      "name": "python",
      "version": "3.8.10 | packaged by conda-forge | (default, May 11 2021, 06:25:23) [MSC v.1916 64 bit (AMD64)]"
    },
    "vscode": {
      "interpreter": {
        "hash": "8ddc49676faceb3e8cb567e61f8f552440a95f15ba10e7733a70b03786a0351b"
      }
    }
  },
  "nbformat": 4,
  "nbformat_minor": 0
}
